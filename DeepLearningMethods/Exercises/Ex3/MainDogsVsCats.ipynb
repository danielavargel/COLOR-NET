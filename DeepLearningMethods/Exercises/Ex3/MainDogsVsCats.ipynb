{
  "cells": [
    {
      "cell_type": "markdown",
      "metadata": {
        "id": "GfkBo7tjXdIm"
      },
      "source": [
        "![Fixel Algorithms](https://fixelalgorithms.co/images/CCExt.png)"
      ]
    },
    {
      "cell_type": "markdown",
      "metadata": {
        "id": "CDbKHlcNXdIo"
      },
      "source": [
        "# <center> Deep Learning Methods </center>\n",
        "## <center> Exercise 3: Transfer Learning </center>\n",
        "### <center> Dogs VS. Cats </center>"
      ]
    },
    {
      "cell_type": "markdown",
      "metadata": {
        "id": "LxjOGlIvXdIp"
      },
      "source": [
        "[![Open In Colab](https://colab.research.google.com/assets/colab-badge.svg)](https://colab.research.google.com/github/FixelAlgorithmsTeam/FixelCourses/blob/master/DeepLearningMethods/Exercises/Ex3/MainDogsVsCats.ipynb)"
      ]
    },
    {
      "cell_type": "code",
      "source": [
        "import numpy as np\n",
        "import time\n",
        "import torch\n",
        "\n",
        "import torchvision\n",
        "import torchvision.transforms as transforms\n",
        "\n",
        "import matplotlib.pyplot as plt\n",
        "import matplotlib\n",
        "\n",
        "import torch\n",
        "import torch.nn               as nn\n",
        "import torch.optim            as optim\n",
        "\n",
        "import os\n",
        "from   google.colab import files\n",
        "\n",
        "import torch.optim.lr_scheduler as lr_scheduler\n",
        "from torch.optim.lr_scheduler import OneCycleLR"
      ],
      "metadata": {
        "id": "jsOfD-4J4lPH"
      },
      "execution_count": 135,
      "outputs": []
    },
    {
      "cell_type": "code",
      "source": [
        "#-- Classification accuracy:\n",
        "def Accuracy(mScore, vY):\n",
        "    vHatY = mScore.detach().argmax(dim=1)\n",
        "    return (vHatY == vY).float().mean().item()\n",
        "\n",
        "#--------------------------------------------------------------------------------#\n",
        "#--------------------------------------------------------------------------------#\n",
        "from sklearn.metrics import r2_score\n",
        "\n",
        "def R2Score(vHatY, vY):\n",
        "    vY    = vY   .detach().cpu().view(-1)\n",
        "    vHatY = vHatY.detach().cpu().view(-1)\n",
        "    return r2_score(vY, vHatY)\n",
        "\n",
        "\n",
        "#--------------------------------------------------------------------------------#\n",
        "#--------------------------------------------------------------------------------#\n",
        "def Epoch(oModel, oDataDL, Loss, Metric, oOptim=None, oScheduler=None, bTrain=True):\n",
        "\n",
        "    epochLoss   = 0\n",
        "    epochMetric = 0\n",
        "    count       = 0\n",
        "    nIter       = len(oDataDL)\n",
        "    vLR         = np.full(nIter, np.nan)\n",
        "    DEVICE      = next(oModel.parameters()).device #-- CPU\\GPU\n",
        "\n",
        "\n",
        "    oModel.train(bTrain) #-- train or test\n",
        "\n",
        "    #-- Iterate over the mini-batches:\n",
        "    for ii, (mX, vY) in enumerate(oDataDL):\n",
        "        #-- Move to device (CPU\\GPU):\n",
        "        mX = mX.to(DEVICE)\n",
        "        vY = vY.to(DEVICE)\n",
        "\n",
        "        #-- Forward:\n",
        "        if bTrain == True:\n",
        "            #-- Store computational graph:\n",
        "            mZ   = oModel(mX)\n",
        "            loss = Loss(mZ, vY)\n",
        "        else:\n",
        "            with torch.no_grad():\n",
        "                #-- Do not store computational graph:\n",
        "                mZ   = oModel(mX)\n",
        "                loss = Loss(mZ, vY)\n",
        "\n",
        "        #-- Backward:\n",
        "        if bTrain == True:\n",
        "            oOptim.zero_grad() #-- set gradients to zeros\n",
        "            loss.backward()    #-- backward\n",
        "            oOptim.step()      #-- update parameters\n",
        "            if oScheduler is not None:\n",
        "                vLR[ii] = oScheduler.get_last_lr()[0]\n",
        "                oScheduler.step() #-- update learning rate\n",
        "\n",
        "        Nb           = vY.shape[0]\n",
        "        count       += Nb\n",
        "        epochLoss   += Nb * loss.item()\n",
        "        epochMetric += Nb * Metric(mZ, vY)\n",
        "        print(f'\\r{\"Train\" if bTrain else \"Val\"} - Iteration: {ii:3d} ({nIter}): loss = {loss:2.6f}', end='')\n",
        "\n",
        "    print('', end='\\r')\n",
        "    epochLoss   /= count\n",
        "    epochMetric /= count\n",
        "\n",
        "    return epochLoss, epochMetric, vLR\n",
        "\n",
        "#--------------------------------------------------------------------------------#\n",
        "#--------------------------------------------------------------------------------#\n",
        "def TrainClassficationModel(oModel, oTrainData, oValData, Loss, nEpochs, oOptim, oScheduler=None):\n",
        "\n",
        "    vTrainLoss = np.full(nEpochs, np.nan)\n",
        "    vTrainAcc  = np.full(nEpochs, np.nan)\n",
        "    vValLoss   = np.full(nEpochs, np.nan)\n",
        "    vValAcc    = np.full(nEpochs, np.nan)\n",
        "    vLR        = np.full(0,       np.nan)\n",
        "    bestAcc    = 0\n",
        "\n",
        "    for epoch in range(nEpochs):\n",
        "        startTime                 = time.time()\n",
        "        trainLoss, trainAcc, vLRi = Epoch(oModel, oTrainData, Loss, Accuracy, oOptim, oScheduler, bTrain=True ) #-- train\n",
        "        valLoss,   valAcc,   _    = Epoch(oModel, oValData,   Loss, Accuracy,                     bTrain=False) #-- validate\n",
        "        epochTime                 = time.time() - startTime\n",
        "\n",
        "        #-- Display:\n",
        "        print('Epoch '              f'{epoch    :03d}:',   end='')\n",
        "        print(' | Train loss: '     f'{trainLoss:6.3f}',   end='')\n",
        "        print(' | Val loss: '       f'{valLoss  :6.3f}',   end='')\n",
        "        print(' | Train Accuracy: ' f'{trainAcc :6.3f}',   end='')\n",
        "        print(' | Val Accuracy: '   f'{valAcc   :6.3f}',   end='')\n",
        "        print(' | epoch time: '     f'{epochTime:6.3f} |', end='')\n",
        "\n",
        "        vTrainLoss[epoch] = trainLoss\n",
        "        vTrainAcc [epoch] = trainAcc\n",
        "        vValLoss  [epoch] = valLoss\n",
        "        vValAcc   [epoch] = valAcc\n",
        "        vLR               = np.concatenate([vLR, vLRi])\n",
        "\n",
        "        #-- Save best model (early stopping):\n",
        "        if bestAcc < valAcc:\n",
        "            bestAcc = valAcc\n",
        "            try:\n",
        "                torch.save(oModel.state_dict(), 'BestModel.pt')\n",
        "            except:\n",
        "                pass\n",
        "            print(' <-- Checkpoint!')\n",
        "        else:\n",
        "            print('')\n",
        "\n",
        "    #-- Load best model (early stopping):\n",
        "    oModel.load_state_dict(torch.load('BestModel.pt'))\n",
        "\n",
        "    return vTrainLoss, vTrainAcc, vValLoss, vValAcc, vLR\n",
        "\n",
        "#--------------------------------------------------------------------------------#\n",
        "#--------------------------------------------------------------------------------#\n",
        "def TrainRegressionModel(oModel, oTrainData, oValData, Loss, nEpochs, oOptim, oScheduler=None):\n",
        "\n",
        "    vTrainLoss = np.full(nEpochs, np.nan)\n",
        "    vTrainR2   = np.full(nEpochs, np.nan)\n",
        "    vValLoss   = np.full(nEpochs, np.nan)\n",
        "    vValR2     = np.full(nEpochs, np.nan)\n",
        "    vLR        = np.full(0,       np.nan)\n",
        "    bestR2     = -np.inf\n",
        "\n",
        "    for epoch in range(nEpochs):\n",
        "        startTime                = time.time()\n",
        "        trainLoss, trainR2, vLRi = Epoch(oModel, oTrainData, Loss, R2Score, oOptim, oScheduler, bTrain=True ) #-- train\n",
        "        valLoss,   valR2,   _    = Epoch(oModel, oValData,   Loss, R2Score,                     bTrain=False) #-- validate\n",
        "        epochTime                = time.time() - startTime\n",
        "\n",
        "        #-- Display:\n",
        "        print('Epoch '          f'{epoch    :03d}:',   end='')\n",
        "        print(' | Train loss: ' f'{trainLoss:.5f}' ,   end='')\n",
        "        print(' | Val loss: '   f'{valLoss  :.5f}' ,   end='')\n",
        "        print(' | Train R2: '   f'{trainR2 :+2.4f}',   end='')\n",
        "        print(' | Val R2: '     f'{valR2   :+2.4f}',   end='')\n",
        "        print(' | epoch time: ' f'{epochTime:6.3f} |', end='')\n",
        "\n",
        "        vTrainLoss[epoch] = trainLoss\n",
        "        vTrainR2  [epoch] = trainR2\n",
        "        vValLoss  [epoch] = valLoss\n",
        "        vValR2    [epoch] = valR2\n",
        "        vLR               = np.concatenate([vLR, vLRi])\n",
        "\n",
        "        #-- Save best model (early stopping):\n",
        "        if bestR2 < valR2:\n",
        "            bestR2 = valR2\n",
        "            try:\n",
        "                torch.save(oModel.state_dict(), 'BestModel.pt')\n",
        "            except:\n",
        "                pass\n",
        "            print(' <-- Checkpoint!')\n",
        "        else:\n",
        "            print('')\n",
        "\n",
        "    #-- Load best model (early stopping):\n",
        "    oModel.load_state_dict(torch.load('BestModel.pt'))\n",
        "\n",
        "    return vTrainLoss, vTrainR2, vValLoss, vValR2, vLR\n",
        "#--------------------------------------------------------------------------------#\n",
        "#--------------------------------------------------------------------------------#"
      ],
      "metadata": {
        "id": "vAubWtqowdKn"
      },
      "execution_count": 136,
      "outputs": []
    },
    {
      "cell_type": "markdown",
      "metadata": {
        "id": "C_WQgIKLXdIr"
      },
      "source": [
        "### Dogs vs. Cats:\n",
        "* Download the data from:  \n",
        "https://www.kaggle.com/shaunthesheep/microsoft-catsvsdogs-dataset\n",
        "* Remove `Cat\\666.jpg` and `Dog\\11702.jpg` (bad files)\n",
        "* Split your data into $22,500$ training images and $2,498$ validation images.\n",
        "* Obtain at least $98\\%$ classification accuracy.  \n",
        "Try:\n",
        "    * Your own network (e.g. a ResNet based architecture).\n",
        "    * A pretrained network (using transfer learning).\n",
        "    \n",
        "\n",
        "**Tips:**  \n",
        "* Load the data:\n",
        "    * Dataset -- `torchvision.datasets.ImageFolder` and `torchvision.transforms`\n",
        "    * Split -- `torch.utils.data.random_split`\n",
        "    * Data loader -- `torch.utils.data.DataLoader`\n",
        "* Model -- `torch.nn` or `torchvision.models`\n",
        "* Set:\n",
        "    * Device\n",
        "    * Loss function (binary classification)\n",
        "    * Optimizer\n",
        "    * Scheduler (optional)\n",
        "* Train you model!"
      ]
    },
    {
      "cell_type": "code",
      "source": [
        "! pip install -q kaggle"
      ],
      "metadata": {
        "id": "zWZwujF-nHtQ"
      },
      "execution_count": 137,
      "outputs": []
    },
    {
      "cell_type": "markdown",
      "source": [],
      "metadata": {
        "id": "3-yZTOHXnHgc"
      }
    },
    {
      "cell_type": "code",
      "source": [
        "files.upload()"
      ],
      "metadata": {
        "colab": {
          "resources": {
            "http://localhost:8080/nbextensions/google.colab/files.js": {
              "data": "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",
              "ok": true,
              "headers": [
                [
                  "content-type",
                  "application/javascript"
                ]
              ],
              "status": 200,
              "status_text": "OK"
            }
          },
          "base_uri": "https://localhost:8080/",
          "height": 90
        },
        "id": "5zlxXSUsnNdJ",
        "outputId": "4c4c6a50-c7cd-4d50-ddfe-7c8a6de3ccc0"
      },
      "execution_count": 138,
      "outputs": [
        {
          "output_type": "display_data",
          "data": {
            "text/plain": [
              "<IPython.core.display.HTML object>"
            ],
            "text/html": [
              "\n",
              "     <input type=\"file\" id=\"files-92cd716b-6a19-4274-82cc-3b315b3c55ee\" name=\"files[]\" multiple disabled\n",
              "        style=\"border:none\" />\n",
              "     <output id=\"result-92cd716b-6a19-4274-82cc-3b315b3c55ee\">\n",
              "      Upload widget is only available when the cell has been executed in the\n",
              "      current browser session. Please rerun this cell to enable.\n",
              "      </output>\n",
              "      <script src=\"/nbextensions/google.colab/files.js\"></script> "
            ]
          },
          "metadata": {}
        },
        {
          "output_type": "stream",
          "name": "stdout",
          "text": [
            "Saving kaggle.json to kaggle (1).json\n"
          ]
        },
        {
          "output_type": "execute_result",
          "data": {
            "text/plain": [
              "{'kaggle.json': b'{\"username\":\"avdaniel\",\"key\":\"db7784e5cf498fca677dd8a59d309110\"}'}"
            ]
          },
          "metadata": {},
          "execution_count": 138
        }
      ]
    },
    {
      "cell_type": "code",
      "source": [
        "! mkdir ~/.kaggle"
      ],
      "metadata": {
        "colab": {
          "base_uri": "https://localhost:8080/"
        },
        "id": "cLbfDYGcnZJK",
        "outputId": "e4ba8f8e-fcbb-4b80-c9c9-52a95babeae0"
      },
      "execution_count": 139,
      "outputs": [
        {
          "output_type": "stream",
          "name": "stdout",
          "text": [
            "mkdir: cannot create directory ‘/root/.kaggle’: File exists\n"
          ]
        }
      ]
    },
    {
      "cell_type": "code",
      "source": [
        "! cp kaggle.json ~/.kaggle/"
      ],
      "metadata": {
        "id": "B2X4V0PVnacR"
      },
      "execution_count": 140,
      "outputs": []
    },
    {
      "cell_type": "code",
      "source": [
        " ! chmod 600 ~/.kaggle/kaggle.json"
      ],
      "metadata": {
        "id": "LHFLQXrfneWy"
      },
      "execution_count": 141,
      "outputs": []
    },
    {
      "cell_type": "code",
      "source": [
        "! kaggle datasets download -d shaunthesheep/microsoft-catsvsdogs-dataset"
      ],
      "metadata": {
        "colab": {
          "base_uri": "https://localhost:8080/"
        },
        "id": "fqC-ZxWjnjnh",
        "outputId": "fce88c98-5aef-4bf5-deaf-f525070c4ca0"
      },
      "execution_count": 142,
      "outputs": [
        {
          "output_type": "stream",
          "name": "stdout",
          "text": [
            "microsoft-catsvsdogs-dataset.zip: Skipping, found more recently modified local copy (use --force to force download)\n"
          ]
        }
      ]
    },
    {
      "cell_type": "code",
      "source": [
        "! mkdir PetImages"
      ],
      "metadata": {
        "colab": {
          "base_uri": "https://localhost:8080/"
        },
        "id": "OJN01AzWoC4T",
        "outputId": "15016073-3ee7-4269-dbfc-ac4b3aecc1fb"
      },
      "execution_count": 143,
      "outputs": [
        {
          "output_type": "stream",
          "name": "stdout",
          "text": [
            "mkdir: cannot create directory ‘PetImages’: File exists\n"
          ]
        }
      ]
    },
    {
      "cell_type": "code",
      "source": [
        "! rm PetImages/PetImages/Dog/11702.jpg"
      ],
      "metadata": {
        "colab": {
          "base_uri": "https://localhost:8080/"
        },
        "id": "8LscZBibpOLO",
        "outputId": "e8b84f7a-0e7d-441a-e45c-50f744b1ee3f"
      },
      "execution_count": 145,
      "outputs": [
        {
          "output_type": "stream",
          "name": "stdout",
          "text": [
            "rm: cannot remove 'PetImages/PetImages/Dog/11702.jpg': No such file or directory\n"
          ]
        }
      ]
    },
    {
      "cell_type": "code",
      "source": [
        "! rm PetImages/PetImages/Cat/666.jpg"
      ],
      "metadata": {
        "colab": {
          "base_uri": "https://localhost:8080/"
        },
        "id": "dMdBOiJLpafW",
        "outputId": "103dbf25-2508-49a0-d001-1fed12fb0dd3"
      },
      "execution_count": 146,
      "outputs": [
        {
          "output_type": "stream",
          "name": "stdout",
          "text": [
            "rm: cannot remove 'PetImages/PetImages/Cat/666.jpg': No such file or directory\n"
          ]
        }
      ]
    },
    {
      "cell_type": "code",
      "source": [
        "count = 0\n",
        "\n",
        "dir_path = 'PetImages/PetImages/Cat'\n",
        "for path in os.listdir(dir_path):\n",
        "    # check if current path is a file\n",
        "    if os.path.isfile(os.path.join(dir_path, path)):\n",
        "        count += 1\n",
        "print('File count:', count)\n",
        "\n",
        "count = 0\n",
        "\n",
        "dir_path = 'PetImages/PetImages/Dog'\n",
        "for path in os.listdir(dir_path):\n",
        "    # check if current path is a file\n",
        "    if os.path.isfile(os.path.join(dir_path, path)):\n",
        "        count += 1\n",
        "print('File count:', count)"
      ],
      "metadata": {
        "colab": {
          "base_uri": "https://localhost:8080/"
        },
        "id": "trKXpWIuAQqr",
        "outputId": "7174290b-cf55-4bfc-d14a-ddcd51fee08c"
      },
      "execution_count": 147,
      "outputs": [
        {
          "output_type": "stream",
          "name": "stdout",
          "text": [
            "File count: 12500\n",
            "File count: 12500\n"
          ]
        }
      ]
    },
    {
      "cell_type": "code",
      "execution_count": 148,
      "metadata": {
        "id": "wSw2KHI_XdIs",
        "outputId": "f73d9055-16b0-4104-c469-66cb62e1588e",
        "colab": {
          "base_uri": "https://localhost:8080/"
        }
      },
      "outputs": [
        {
          "output_type": "execute_result",
          "data": {
            "text/plain": [
              "['Cat', 'Dog']"
            ]
          },
          "metadata": {},
          "execution_count": 148
        }
      ],
      "source": [
        "\n",
        "oTransforms = transforms.Compose([\n",
        "    transforms.Resize    (256),\n",
        "    transforms.CenterCrop(224),\n",
        "    transforms.ToTensor  ()\n",
        "])\n",
        "\n",
        "DATA_PATH = 'PetImages/PetImages'\n",
        "DataSet  = torchvision.datasets.ImageFolder(root=DATA_PATH, transform=oTransforms)\n",
        "Classes  = DataSet.classes\n",
        "Classes"
      ]
    },
    {
      "cell_type": "code",
      "source": [
        "N                   = len(DataSet)\n",
        "Train               = 22500\n",
        "Test                = 2498\n",
        "TrainSet, TestSet   = torch.utils.data.random_split(DataSet, [Train, Test], generator=torch.Generator().manual_seed(42))\n",
        "\n",
        "len(TrainSet), len(TestSet)"
      ],
      "metadata": {
        "colab": {
          "base_uri": "https://localhost:8080/"
        },
        "id": "WMLcoTObpmzf",
        "outputId": "09b83315-b1ec-4879-8883-ab1b106fecb6"
      },
      "execution_count": 149,
      "outputs": [
        {
          "output_type": "execute_result",
          "data": {
            "text/plain": [
              "(22500, 2498)"
            ]
          },
          "metadata": {},
          "execution_count": 149
        }
      ]
    },
    {
      "cell_type": "code",
      "source": [
        "batchSize = 256\n",
        "oTrainDL  = torch.utils.data.DataLoader(TrainSet, shuffle=True,  batch_size=1*batchSize, num_workers=0, persistent_workers=False)\n",
        "oTestDL   = torch.utils.data.DataLoader(TestSet,  shuffle=False, batch_size=2*batchSize, num_workers=0, persistent_workers=False)"
      ],
      "metadata": {
        "id": "e7oxtMFfpuqb"
      },
      "execution_count": 150,
      "outputs": []
    },
    {
      "cell_type": "code",
      "source": [
        "def GetModel():\n",
        "    Model = torchvision.models.resnet50(weights=True)\n",
        "    for Param in Model.parameters():\n",
        "        Param.requires_grad = False\n",
        "        \n",
        "    In = Model.fc.in_features\n",
        "    Model.fc = nn.Sequential(\n",
        "        nn.Linear(In, 128), nn.ReLU(),\n",
        "        nn.Linear(128, 2)\n",
        "    )\n",
        "    \n",
        "    return Model"
      ],
      "metadata": {
        "id": "dX0OPKGZpw5Z"
      },
      "execution_count": 151,
      "outputs": []
    },
    {
      "cell_type": "code",
      "source": [
        "Loss   = nn.CrossEntropyLoss()\n",
        "DEVICE = torch.device(\"cuda:0\" if torch.cuda.is_available() else \"cpu\") \n",
        "DEVICE"
      ],
      "metadata": {
        "colab": {
          "base_uri": "https://localhost:8080/"
        },
        "id": "wqO0aoscp2mY",
        "outputId": "b793829b-27f3-4aa2-9d13-60e224e48bf3"
      },
      "execution_count": 152,
      "outputs": [
        {
          "output_type": "execute_result",
          "data": {
            "text/plain": [
              "device(type='cuda', index=0)"
            ]
          },
          "metadata": {},
          "execution_count": 152
        }
      ]
    },
    {
      "cell_type": "code",
      "source": [
        "NumOfEpochs    = 20\n",
        "NumOfIter           = NumOfEpochs * len(oTrainDL)\n",
        "\n",
        "Model     = GetModel().to(DEVICE)\n",
        "Optim     = optim.AdamW(Model.parameters(), lr=0, betas=(0.9, 0.99), weight_decay=2e-4)\n",
        "Scheduler = OneCycleLR (Optim, max_lr=1e-3, total_steps=NumOfIter)\n",
        "\n",
        "History   = TrainClassficationModel(Model, oTrainDL, oTestDL, Loss, NumOfEpochs, Optim, Scheduler)"
      ],
      "metadata": {
        "colab": {
          "base_uri": "https://localhost:8080/"
        },
        "id": "XghafDEeqPKx",
        "outputId": "a2d691d9-16fe-4d2b-e1c8-66390547be5f"
      },
      "execution_count": 153,
      "outputs": [
        {
          "output_type": "stream",
          "name": "stdout",
          "text": [
            "Epoch 000: | Train loss:  0.342 | Val loss:  0.119 | Train Accuracy:  0.932 | Val Accuracy:  0.974 | epoch time: 204.696 | <-- Checkpoint!\n",
            "Epoch 001: | Train loss:  0.080 | Val loss:  0.065 | Train Accuracy:  0.977 | Val Accuracy:  0.977 | epoch time: 203.908 | <-- Checkpoint!\n",
            "Epoch 002: | Train loss:  0.051 | Val loss:  0.058 | Train Accuracy:  0.981 | Val Accuracy:  0.979 | epoch time: 202.841 | <-- Checkpoint!\n",
            "Epoch 003: | Train loss:  0.050 | Val loss:  0.051 | Train Accuracy:  0.982 | Val Accuracy:  0.982 | epoch time: 203.464 | <-- Checkpoint!\n",
            "Epoch 004: | Train loss:  0.042 | Val loss:  0.047 | Train Accuracy:  0.985 | Val Accuracy:  0.982 | epoch time: 203.657 |\n",
            "Epoch 005: | Train loss:  0.041 | Val loss:  0.053 | Train Accuracy:  0.985 | Val Accuracy:  0.981 | epoch time: 203.856 |\n",
            "Epoch 006: | Train loss:  0.049 | Val loss:  0.044 | Train Accuracy:  0.981 | Val Accuracy:  0.985 | epoch time: 203.110 | <-- Checkpoint!\n",
            "Epoch 007: | Train loss:  0.042 | Val loss:  0.050 | Train Accuracy:  0.984 | Val Accuracy:  0.982 | epoch time: 203.247 |\n",
            "Epoch 008: | Train loss:  0.040 | Val loss:  0.051 | Train Accuracy:  0.985 | Val Accuracy:  0.980 | epoch time: 202.746 |\n",
            "Epoch 009: | Train loss:  0.033 | Val loss:  0.045 | Train Accuracy:  0.988 | Val Accuracy:  0.982 | epoch time: 203.165 |\n",
            "Epoch 010: | Train loss:  0.032 | Val loss:  0.042 | Train Accuracy:  0.987 | Val Accuracy:  0.985 | epoch time: 202.454 | <-- Checkpoint!\n",
            "Epoch 011: | Train loss:  0.030 | Val loss:  0.045 | Train Accuracy:  0.988 | Val Accuracy:  0.986 | epoch time: 203.267 | <-- Checkpoint!\n",
            "Epoch 012: | Train loss:  0.028 | Val loss:  0.043 | Train Accuracy:  0.989 | Val Accuracy:  0.985 | epoch time: 202.345 |\n",
            "Epoch 013: | Train loss:  0.027 | Val loss:  0.044 | Train Accuracy:  0.989 | Val Accuracy:  0.983 | epoch time: 202.842 |\n",
            "Epoch 014: | Train loss:  0.024 | Val loss:  0.043 | Train Accuracy:  0.991 | Val Accuracy:  0.985 | epoch time: 201.484 |\n",
            "Epoch 015: | Train loss:  0.020 | Val loss:  0.043 | Train Accuracy:  0.993 | Val Accuracy:  0.985 | epoch time: 201.411 |\n",
            "Epoch 016: | Train loss:  0.019 | Val loss:  0.044 | Train Accuracy:  0.993 | Val Accuracy:  0.986 | epoch time: 205.381 | <-- Checkpoint!\n",
            "Epoch 017: | Train loss:  0.018 | Val loss:  0.043 | Train Accuracy:  0.994 | Val Accuracy:  0.985 | epoch time: 201.021 |\n",
            "Epoch 018: | Train loss:  0.017 | Val loss:  0.043 | Train Accuracy:  0.994 | Val Accuracy:  0.986 | epoch time: 199.975 |\n",
            "Epoch 019: | Train loss:  0.017 | Val loss:  0.043 | Train Accuracy:  0.994 | Val Accuracy:  0.986 | epoch time: 201.054 |\n"
          ]
        }
      ]
    }
  ],
  "metadata": {
    "kernelspec": {
      "display_name": "Python 3",
      "language": "python",
      "name": "python3"
    },
    "language_info": {
      "codemirror_mode": {
        "name": "ipython",
        "version": 3
      },
      "file_extension": ".py",
      "mimetype": "text/x-python",
      "name": "python",
      "nbconvert_exporter": "python",
      "pygments_lexer": "ipython3",
      "version": "3.8.12"
    },
    "toc": {
      "base_numbering": 1,
      "nav_menu": {},
      "number_sections": false,
      "sideBar": true,
      "skip_h1_title": false,
      "title_cell": "Table of Contents",
      "title_sidebar": "Contents",
      "toc_cell": false,
      "toc_position": {},
      "toc_section_display": true,
      "toc_window_display": false
    },
    "varInspector": {
      "cols": {
        "lenName": 16,
        "lenType": 16,
        "lenVar": 40
      },
      "kernels_config": {
        "python": {
          "delete_cmd_postfix": "",
          "delete_cmd_prefix": "del ",
          "library": "var_list.py",
          "varRefreshCmd": "print(var_dic_list())"
        },
        "r": {
          "delete_cmd_postfix": ") ",
          "delete_cmd_prefix": "rm(",
          "library": "var_list.r",
          "varRefreshCmd": "cat(var_dic_list()) "
        }
      },
      "types_to_exclude": [
        "module",
        "function",
        "builtin_function_or_method",
        "instance",
        "_Feature"
      ],
      "window_display": false
    },
    "colab": {
      "provenance": []
    },
    "accelerator": "GPU",
    "gpuClass": "standard"
  },
  "nbformat": 4,
  "nbformat_minor": 0
}