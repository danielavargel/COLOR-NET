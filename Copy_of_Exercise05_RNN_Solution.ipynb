{
  "cells": [
    {
      "cell_type": "markdown",
      "metadata": {
        "id": "view-in-github",
        "colab_type": "text"
      },
      "source": [
        "<a href=\"https://colab.research.google.com/github/danielavargel/COLOR-NET/blob/master/Copy_of_Exercise05_RNN_Solution.ipynb\" target=\"_parent\"><img src=\"https://colab.research.google.com/assets/colab-badge.svg\" alt=\"Open In Colab\"/></a>"
      ]
    },
    {
      "cell_type": "markdown",
      "id": "concrete-plenty",
      "metadata": {
        "id": "concrete-plenty"
      },
      "source": [
        "![Fixel Algorithms](https://fixelalgorithms.co/images/CCExt.png)"
      ]
    },
    {
      "cell_type": "markdown",
      "id": "oriented-mattress",
      "metadata": {
        "id": "oriented-mattress"
      },
      "source": [
        "# <center> Deep Learning Methods </center>\n",
        "## <center> Exercise 5 - RNN </center>\n",
        "### <center> Many to One RNN - Solution </center>"
      ]
    },
    {
      "cell_type": "markdown",
      "id": "declared-sentence",
      "metadata": {
        "id": "declared-sentence"
      },
      "source": [
        "[![Open In Colab](https://colab.research.google.com/assets/colab-badge.svg)](https://colab.research.google.com/github/FixelAlgorithmsTeam/FixelCourses/blob/master/DeepLearningMethods/Exercises/Ex5/Exercise05_RNN_Solution.ipynb)"
      ]
    },
    {
      "cell_type": "code",
      "execution_count": null,
      "id": "acting-northwest",
      "metadata": {
        "ExecuteTime": {
          "end_time": "2022-08-25T20:20:02.678616Z",
          "start_time": "2022-08-25T20:20:02.659600Z"
        },
        "id": "acting-northwest",
        "outputId": "0edb66d8-abf9-45d4-bce3-d263f891c8b7"
      },
      "outputs": [
        {
          "data": {
            "text/html": [
              "<style>.container { width:80% !important; }</style>"
            ],
            "text/plain": [
              "<IPython.core.display.HTML object>"
            ]
          },
          "metadata": {},
          "output_type": "display_data"
        }
      ],
      "source": [
        "#-- Wide screen:\n",
        "from IPython.display import HTML\n",
        "display(HTML(\"<style>.container { width:80% !important; }</style>\"))"
      ]
    },
    {
      "cell_type": "code",
      "execution_count": null,
      "id": "german-genesis",
      "metadata": {
        "ExecuteTime": {
          "end_time": "2022-08-25T20:20:02.917793Z",
          "start_time": "2022-08-25T20:20:02.872753Z"
        },
        "id": "german-genesis"
      },
      "outputs": [],
      "source": [
        "#-- Auto reload:\n",
        "%load_ext autoreload\n",
        "%autoreload 2"
      ]
    },
    {
      "cell_type": "code",
      "execution_count": null,
      "id": "auburn-stage",
      "metadata": {
        "ExecuteTime": {
          "end_time": "2022-08-25T20:20:05.169568Z",
          "start_time": "2022-08-25T20:20:03.784981Z"
        },
        "id": "auburn-stage"
      },
      "outputs": [],
      "source": [
        "import numpy             as np\n",
        "import matplotlib.pyplot as plt\n",
        "\n",
        "import torch\n",
        "import torch.nn    as nn\n",
        "import torch.optim as optim\n",
        "import torchtext\n",
        "\n",
        "from torchtext.vocab import Vocab"
      ]
    },
    {
      "cell_type": "code",
      "execution_count": null,
      "id": "indian-intelligence",
      "metadata": {
        "ExecuteTime": {
          "end_time": "2022-08-25T20:20:05.232625Z",
          "start_time": "2022-08-25T20:20:05.170569Z"
        },
        "id": "indian-intelligence"
      },
      "outputs": [],
      "source": [
        "if 'google.colab' in str(get_ipython()):\n",
        "    !npx degit FixelAlgorithmsTeam/FixelCourses/DeepLearningMethods/Exercises/Ex5/DeepLearningFramework ./DeepLearningFramework"
      ]
    },
    {
      "cell_type": "markdown",
      "id": "careful-indian",
      "metadata": {
        "id": "careful-indian"
      },
      "source": [
        "### Exercise:\n",
        "Get above 80% accuracy on the `Names` dataset."
      ]
    },
    {
      "cell_type": "markdown",
      "id": "dressed-struggle",
      "metadata": {
        "id": "dressed-struggle"
      },
      "source": [
        "### Load the data:"
      ]
    },
    {
      "cell_type": "code",
      "execution_count": null,
      "id": "blessed-tissue",
      "metadata": {
        "ExecuteTime": {
          "end_time": "2022-08-25T20:20:05.296684Z",
          "start_time": "2022-08-25T20:20:05.233626Z"
        },
        "id": "blessed-tissue",
        "outputId": "0ac0b975-1a78-496b-c445-7a39306d8e15"
      },
      "outputs": [
        {
          "name": "stdout",
          "output_type": "stream",
          "text": [
            "Some names : ['Kabak        ', 'Large        ', 'Gorfunkel    ', 'Atarskikh    ', 'Jatzun       ']\n",
            "Some labels: ['Russian      ', 'English      ', 'Russian      ', 'Russian      ', 'Russian      ']\n"
          ]
        }
      ],
      "source": [
        "mData   = np.load('NamesData.npy')\n",
        "lNames  = mData[:,0]\n",
        "lLabels = mData[:,1]\n",
        "N       = mData.shape[0]\n",
        "\n",
        "vIdx    = np.random.randint(0, N, (5,))\n",
        "print(f'Some names : {[f\"{lNames [idx]:13}\" for idx in vIdx]}')\n",
        "print(f'Some labels: {[f\"{lLabels[idx]:13}\" for idx in vIdx]}')"
      ]
    },
    {
      "cell_type": "markdown",
      "id": "psychological-sally",
      "metadata": {
        "id": "psychological-sally"
      },
      "source": [
        "#### Build the vocabulary:"
      ]
    },
    {
      "cell_type": "code",
      "execution_count": null,
      "id": "liberal-bathroom",
      "metadata": {
        "ExecuteTime": {
          "end_time": "2022-08-25T20:20:06.269768Z",
          "start_time": "2022-08-25T20:20:06.185685Z"
        },
        "id": "liberal-bathroom",
        "outputId": "ba0e99ed-7e54-45d2-845f-19c091b04e86"
      },
      "outputs": [
        {
          "name": "stdout",
          "output_type": "stream",
          "text": [
            "Number of letter: 52\n"
          ]
        },
        {
          "data": {
            "text/plain": [
              "[0, 1, 2, 26, 27, 51]"
            ]
          },
          "execution_count": 6,
          "metadata": {},
          "output_type": "execute_result"
        }
      ],
      "source": [
        "from string          import ascii_letters\n",
        "from torchtext.vocab import build_vocab_from_iterator\n",
        "\n",
        "oVocab   = build_vocab_from_iterator([c for c in ascii_letters])\n",
        "nLetters = len(oVocab)\n",
        "\n",
        "print (f'Number of letter: {len(oVocab)}')\n",
        "oVocab(['A', 'B', 'C', 'a', 'b', 'z'])"
      ]
    },
    {
      "cell_type": "markdown",
      "id": "spoken-questionnaire",
      "metadata": {
        "id": "spoken-questionnaire"
      },
      "source": [
        "#### Label encoder:"
      ]
    },
    {
      "cell_type": "code",
      "execution_count": null,
      "id": "billion-financing",
      "metadata": {
        "ExecuteTime": {
          "end_time": "2022-08-25T20:20:13.841248Z",
          "start_time": "2022-08-25T20:20:13.411857Z"
        },
        "id": "billion-financing",
        "outputId": "96963238-c89d-40a7-e546-db50e1400a2f"
      },
      "outputs": [
        {
          "name": "stdout",
          "output_type": "stream",
          "text": [
            "Number of labels: 18\n",
            "Labels:         \n",
            "['Arabic' 'Chinese' 'Czech' 'Dutch' 'English' 'French' 'German' 'Greek'\n",
            " 'Irish' 'Italian' 'Japanese' 'Korean' 'Polish' 'Portuguese' 'Russian'\n",
            " 'Scottish' 'Spanish' 'Vietnamese']\n"
          ]
        }
      ],
      "source": [
        "from sklearn.preprocessing import LabelEncoder\n",
        "\n",
        "oLabelEncoder = LabelEncoder().fit(lLabels)\n",
        "nLabels       = len(oLabelEncoder.classes_)\n",
        "\n",
        "print(f'Number of labels: {nLabels}'               )\n",
        "print(f'Labels:         \\n{oLabelEncoder.classes_}')"
      ]
    },
    {
      "cell_type": "code",
      "execution_count": null,
      "id": "0729df38",
      "metadata": {
        "ExecuteTime": {
          "end_time": "2022-08-25T20:20:14.607124Z",
          "start_time": "2022-08-25T20:20:14.529053Z"
        },
        "id": "0729df38",
        "outputId": "23748f61-5f33-444d-8fc1-e84a48d2a5f0"
      },
      "outputs": [
        {
          "data": {
            "text/plain": [
              "array([0, 2])"
            ]
          },
          "execution_count": 8,
          "metadata": {},
          "output_type": "execute_result"
        }
      ],
      "source": [
        "oLabelEncoder.transform(['Arabic', 'Czech'])"
      ]
    },
    {
      "cell_type": "markdown",
      "id": "functional-grass",
      "metadata": {
        "id": "functional-grass"
      },
      "source": [
        "#### String to tensor:"
      ]
    },
    {
      "cell_type": "code",
      "execution_count": null,
      "id": "aging-frost",
      "metadata": {
        "ExecuteTime": {
          "end_time": "2022-08-25T20:20:15.388141Z",
          "start_time": "2022-08-25T20:20:15.318078Z"
        },
        "id": "aging-frost",
        "outputId": "c446794f-9eef-47d1-aa42-2b578fcdee83"
      },
      "outputs": [
        {
          "data": {
            "text/plain": [
              "(tensor([ 9, 40, 39, 30, 44]), 'Jones')"
            ]
          },
          "execution_count": 9,
          "metadata": {},
          "output_type": "execute_result"
        }
      ],
      "source": [
        "def Name2Tensor(name):\n",
        "    return torch.tensor(oVocab(list(name)))\n",
        "\n",
        "def Tensor2Name(vName):\n",
        "    return ''.join([oVocab.get_itos()[e] for e in vName])\n",
        "\n",
        "name  = 'Jones'\n",
        "vName = Name2Tensor(name)\n",
        "\n",
        "Name2Tensor(name), Tensor2Name(vName)"
      ]
    },
    {
      "cell_type": "markdown",
      "id": "structured-finnish",
      "metadata": {
        "id": "structured-finnish"
      },
      "source": [
        "#### Dataset:\n",
        "`__getitem__`:\n",
        "* `vName` is the tensor version of the string `name`.\n",
        "* `y` is the integer represents the class `label`."
      ]
    },
    {
      "cell_type": "code",
      "execution_count": null,
      "id": "third-fiction",
      "metadata": {
        "ExecuteTime": {
          "end_time": "2022-08-25T20:20:17.347634Z",
          "start_time": "2022-08-25T20:20:17.271567Z"
        },
        "id": "third-fiction",
        "outputId": "25f4f03f-e94b-4d1a-e925-0a510938c031"
      },
      "outputs": [
        {
          "data": {
            "text/plain": [
              "('Nguyen', array(['Vietnamese'], dtype='<U19'))"
            ]
          },
          "execution_count": 10,
          "metadata": {},
          "output_type": "execute_result"
        }
      ],
      "source": [
        "class NameDataset(torch.utils.data.Dataset):\n",
        "    def __init__(self, lNames, lLabels):\n",
        "        self.lNames  = lNames\n",
        "        self.lLabels = lLabels\n",
        "        \n",
        "    def __len__(self):\n",
        "        return len(self.lNames)\n",
        "    \n",
        "    def __getitem__(self, idx):\n",
        "        vName = Name2Tensor            ( self.lNames [idx] )\n",
        "        y     = oLabelEncoder.transform([self.lLabels[idx]])[0]\n",
        "        return vName, y\n",
        "    \n",
        "oDataset = NameDataset(lNames, lLabels)\n",
        "vName, y = oDataset[20001]\n",
        "\n",
        "Tensor2Name(vName), oLabelEncoder.inverse_transform([y])"
      ]
    },
    {
      "cell_type": "code",
      "execution_count": null,
      "id": "royal-broadway",
      "metadata": {
        "ExecuteTime": {
          "end_time": "2022-08-25T20:20:18.608406Z",
          "start_time": "2022-08-25T20:20:18.535341Z"
        },
        "id": "royal-broadway",
        "outputId": "989a6ad7-2006-45c5-9fca-03acdaab7481"
      },
      "outputs": [
        {
          "data": {
            "text/plain": [
              "(15000, 5074)"
            ]
          },
          "execution_count": 11,
          "metadata": {},
          "output_type": "execute_result"
        }
      ],
      "source": [
        "from torch.utils.data import random_split\n",
        "\n",
        "N                   = mData.shape[0]\n",
        "nTrain              = 15000\n",
        "nTest               = N - nTrain\n",
        "oTrainSet, oTestSet = random_split(oDataset, [nTrain, nTest], generator=torch.Generator().manual_seed(42))\n",
        "\n",
        "len(oTrainSet), len(oTestSet)"
      ]
    },
    {
      "cell_type": "markdown",
      "id": "silver-globe",
      "metadata": {
        "id": "silver-globe"
      },
      "source": [
        "#### Data loader:\n",
        "* `vY` is a tensor (`dtype=torch.long`) of the classes.\n",
        "* `mPackNames` is a packed object of the names."
      ]
    },
    {
      "cell_type": "code",
      "execution_count": null,
      "id": "enhanced-morris",
      "metadata": {
        "ExecuteTime": {
          "end_time": "2022-08-25T20:20:22.092080Z",
          "start_time": "2022-08-25T20:20:22.007003Z"
        },
        "id": "enhanced-morris",
        "outputId": "0c874047-d78f-4a7b-9b28-79609fea7f6c"
      },
      "outputs": [
        {
          "data": {
            "text/plain": [
              "(torch.Size([477]), torch.Size([64]))"
            ]
          },
          "execution_count": 12,
          "metadata": {},
          "output_type": "execute_result"
        }
      ],
      "source": [
        "from torch.nn.utils.rnn import pack_sequence\n",
        "\n",
        "def NamesCollate(lBatch):\n",
        "    lNames, lY = zip          (*lBatch)\n",
        "    vY         = torch.tensor (lY, dtype=torch.long)\n",
        "    mPackNames = pack_sequence(lNames, enforce_sorted=False)\n",
        "    \n",
        "    return (mPackNames, vY)\n",
        "\n",
        "batchSize = 64\n",
        "oTrainDL  = torch.utils.data.DataLoader(oTrainSet, shuffle=True,  batch_size=1*batchSize, collate_fn=NamesCollate)\n",
        "oTestDL   = torch.utils.data.DataLoader(oTestSet,  shuffle=False, batch_size=2*batchSize, collate_fn=NamesCollate)\n",
        "\n",
        "mPackNames, vY = next(iter(oTrainDL))\n",
        "mPackNames.data.shape, vY.shape"
      ]
    },
    {
      "cell_type": "markdown",
      "id": "portuguese-poultry",
      "metadata": {
        "id": "portuguese-poultry"
      },
      "source": [
        "#### Model:\n",
        "Use `bidirectional=True` (just for practice)."
      ]
    },
    {
      "cell_type": "code",
      "execution_count": null,
      "id": "piano-aquarium",
      "metadata": {
        "ExecuteTime": {
          "end_time": "2022-08-25T20:20:27.357389Z",
          "start_time": "2022-08-25T20:20:27.271311Z"
        },
        "id": "piano-aquarium",
        "outputId": "7a8c193d-e3aa-430b-d9ab-114693bea310"
      },
      "outputs": [
        {
          "data": {
            "text/plain": [
              "torch.Size([64, 18])"
            ]
          },
          "execution_count": 13,
          "metadata": {},
          "output_type": "execute_result"
        }
      ],
      "source": [
        "from torch.nn.utils.rnn import PackedSequence\n",
        "\n",
        "H = 16\n",
        "V = nLetters\n",
        "D = 4\n",
        "L = 2\n",
        "C = nLabels\n",
        "\n",
        "def PackedAs(mX, mPack):\n",
        "    return PackedSequence(mX, mPack.batch_sizes, mPack.sorted_indices, mPack.unsorted_indices)\n",
        "\n",
        "class RNN(nn.Module):\n",
        "    def __init__(self):\n",
        "        super(RNN, self).__init__()\n",
        "       \n",
        "        self.oEmbeeding = nn.Embedding(V, D)\n",
        "        self.oGRU       = nn.GRU(D, H, L, dropout=0.15, bidirectional=True)\n",
        "        self.oLinear    = nn.Linear(2*H, C)\n",
        "        \n",
        "    def forward(self, mPackNames):\n",
        "        #-- mPackNames.shape = (N*T,)\n",
        "        \n",
        "        mE     = self.oEmbeeding(mPackNames.data)                 #-- mE        .shape = (N*T, D)\n",
        "        mPackE = PackedAs       (mE, mPackNames)                  #-- mPackE    .shape = (N*T, D)\n",
        "        \n",
        "        _, mH  = self.oGRU      (mPackE)                          #-- mH        .shape = (2*L, N, H) \n",
        "        mH     = torch.cat      ([mH[-1,:,:], mH[-2,:,:]], dim=1) #-- mH        .shape = (N,   2*H)\n",
        "               \n",
        "        mZ     = self.oLinear   (mH)                              #-- mZ        .shape = (N, C)\n",
        "        \n",
        "        return mZ\n",
        "    \n",
        "RNN()(mPackNames).shape"
      ]
    },
    {
      "cell_type": "markdown",
      "id": "talented-booth",
      "metadata": {
        "id": "talented-booth"
      },
      "source": [
        "#### Train:"
      ]
    },
    {
      "cell_type": "code",
      "execution_count": null,
      "id": "later-midnight",
      "metadata": {
        "ExecuteTime": {
          "end_time": "2022-08-25T20:20:31.597991Z",
          "start_time": "2022-08-25T20:20:31.489057Z"
        },
        "id": "later-midnight"
      },
      "outputs": [],
      "source": [
        "from torch.optim.lr_scheduler       import OneCycleLR\n",
        "from DeepLearningFramework.Metric   import Accuracy\n",
        "from DeepLearningFramework.Training import TrainModel\n",
        "\n",
        "DEVICE = torch.device(\"cuda:0\" if torch.cuda.is_available() else \"cpu\") \n",
        "Loss   = nn.CrossEntropyLoss()\n",
        "Metric = Accuracy           ()"
      ]
    },
    {
      "cell_type": "code",
      "execution_count": null,
      "id": "killing-exception",
      "metadata": {
        "ExecuteTime": {
          "end_time": "2022-08-25T20:22:25.597360Z",
          "start_time": "2022-08-25T20:20:44.977418Z"
        },
        "id": "killing-exception",
        "outputId": "f65351b9-886f-4335-ddf2-8ddcc73d295e"
      },
      "outputs": [
        {
          "name": "stdout",
          "output_type": "stream",
          "text": [
            "------------------------------------------------------------------------------------------------------------------------\n",
            "Epoch 000: | Train loss:  2.470 | Val loss:  1.909 | Train Metric:  0.322 | Val Metric:  0.463 | epoch time:  2.041 | <-- Checkpoint!\n",
            "Epoch 001: | Train loss:  1.791 | Val loss:  1.719 | Train Metric:  0.471 | Val Metric:  0.464 | epoch time:  1.832 | <-- Checkpoint!\n",
            "Epoch 002: | Train loss:  1.626 | Val loss:  1.511 | Train Metric:  0.503 | Val Metric:  0.549 | epoch time:  1.857 | <-- Checkpoint!\n",
            "Epoch 003: | Train loss:  1.436 | Val loss:  1.335 | Train Metric:  0.578 | Val Metric:  0.615 | epoch time:  1.961 | <-- Checkpoint!\n",
            "Epoch 004: | Train loss:  1.298 | Val loss:  1.227 | Train Metric:  0.622 | Val Metric:  0.647 | epoch time:  1.924 | <-- Checkpoint!\n",
            "Epoch 005: | Train loss:  1.190 | Val loss:  1.103 | Train Metric:  0.644 | Val Metric:  0.662 | epoch time:  1.970 | <-- Checkpoint!\n",
            "Epoch 006: | Train loss:  1.082 | Val loss:  1.019 | Train Metric:  0.669 | Val Metric:  0.689 | epoch time:  1.949 | <-- Checkpoint!\n",
            "Epoch 007: | Train loss:  1.002 | Val loss:  0.955 | Train Metric:  0.696 | Val Metric:  0.711 | epoch time:  1.983 | <-- Checkpoint!\n",
            "Epoch 008: | Train loss:  0.937 | Val loss:  0.890 | Train Metric:  0.721 | Val Metric:  0.733 | epoch time:  1.964 | <-- Checkpoint!\n",
            "Epoch 009: | Train loss:  0.878 | Val loss:  0.832 | Train Metric:  0.740 | Val Metric:  0.752 | epoch time:  1.931 | <-- Checkpoint!\n",
            "------------------------------------------------------------------------------------------------------------------------\n",
            "Epoch 010: | Train loss:  0.833 | Val loss:  0.788 | Train Metric:  0.751 | Val Metric:  0.762 | epoch time:  1.958 | <-- Checkpoint!\n",
            "Epoch 011: | Train loss:  0.792 | Val loss:  0.762 | Train Metric:  0.762 | Val Metric:  0.773 | epoch time:  1.931 | <-- Checkpoint!\n",
            "Epoch 012: | Train loss:  0.757 | Val loss:  0.728 | Train Metric:  0.773 | Val Metric:  0.781 | epoch time:  2.001 | <-- Checkpoint!\n",
            "Epoch 013: | Train loss:  0.728 | Val loss:  0.712 | Train Metric:  0.781 | Val Metric:  0.782 | epoch time:  2.005 | <-- Checkpoint!\n",
            "Epoch 014: | Train loss:  0.703 | Val loss:  0.690 | Train Metric:  0.791 | Val Metric:  0.790 | epoch time:  2.003 | <-- Checkpoint!\n",
            "Epoch 015: | Train loss:  0.680 | Val loss:  0.679 | Train Metric:  0.794 | Val Metric:  0.793 | epoch time:  1.973 | <-- Checkpoint!\n",
            "Epoch 016: | Train loss:  0.659 | Val loss:  0.682 | Train Metric:  0.802 | Val Metric:  0.789 | epoch time:  2.052 |\n",
            "Epoch 017: | Train loss:  0.643 | Val loss:  0.657 | Train Metric:  0.804 | Val Metric:  0.795 | epoch time:  1.941 | <-- Checkpoint!\n",
            "Epoch 018: | Train loss:  0.628 | Val loss:  0.669 | Train Metric:  0.809 | Val Metric:  0.796 | epoch time:  1.978 | <-- Checkpoint!\n",
            "Epoch 019: | Train loss:  0.612 | Val loss:  0.658 | Train Metric:  0.809 | Val Metric:  0.795 | epoch time:  1.985 |\n",
            "------------------------------------------------------------------------------------------------------------------------\n",
            "Epoch 020: | Train loss:  0.600 | Val loss:  0.654 | Train Metric:  0.819 | Val Metric:  0.796 | epoch time:  1.977 | <-- Checkpoint!\n",
            "Epoch 021: | Train loss:  0.593 | Val loss:  0.649 | Train Metric:  0.818 | Val Metric:  0.796 | epoch time:  1.999 | <-- Checkpoint!\n",
            "Epoch 022: | Train loss:  0.576 | Val loss:  0.643 | Train Metric:  0.821 | Val Metric:  0.798 | epoch time:  2.018 | <-- Checkpoint!\n",
            "Epoch 023: | Train loss:  0.568 | Val loss:  0.637 | Train Metric:  0.824 | Val Metric:  0.798 | epoch time:  2.010 |\n",
            "Epoch 024: | Train loss:  0.557 | Val loss:  0.638 | Train Metric:  0.830 | Val Metric:  0.801 | epoch time:  1.988 | <-- Checkpoint!\n",
            "Epoch 025: | Train loss:  0.549 | Val loss:  0.639 | Train Metric:  0.828 | Val Metric:  0.802 | epoch time:  1.998 | <-- Checkpoint!\n",
            "Epoch 026: | Train loss:  0.543 | Val loss:  0.643 | Train Metric:  0.829 | Val Metric:  0.800 | epoch time:  1.947 |\n",
            "Epoch 027: | Train loss:  0.534 | Val loss:  0.630 | Train Metric:  0.832 | Val Metric:  0.805 | epoch time:  1.947 | <-- Checkpoint!\n",
            "Epoch 028: | Train loss:  0.528 | Val loss:  0.636 | Train Metric:  0.833 | Val Metric:  0.803 | epoch time:  1.926 |\n",
            "Epoch 029: | Train loss:  0.519 | Val loss:  0.634 | Train Metric:  0.838 | Val Metric:  0.805 | epoch time:  1.996 |\n",
            "------------------------------------------------------------------------------------------------------------------------\n",
            "Epoch 030: | Train loss:  0.515 | Val loss:  0.631 | Train Metric:  0.839 | Val Metric:  0.803 | epoch time:  1.933 |\n",
            "Epoch 031: | Train loss:  0.506 | Val loss:  0.628 | Train Metric:  0.837 | Val Metric:  0.805 | epoch time:  1.987 | <-- Checkpoint!\n",
            "Epoch 032: | Train loss:  0.503 | Val loss:  0.626 | Train Metric:  0.842 | Val Metric:  0.809 | epoch time:  1.975 | <-- Checkpoint!\n",
            "Epoch 033: | Train loss:  0.494 | Val loss:  0.624 | Train Metric:  0.845 | Val Metric:  0.811 | epoch time:  1.946 | <-- Checkpoint!\n",
            "Epoch 034: | Train loss:  0.491 | Val loss:  0.626 | Train Metric:  0.847 | Val Metric:  0.808 | epoch time:  1.994 |\n",
            "Epoch 035: | Train loss:  0.482 | Val loss:  0.628 | Train Metric:  0.846 | Val Metric:  0.811 | epoch time:  1.960 | <-- Checkpoint!\n",
            "Epoch 036: | Train loss:  0.480 | Val loss:  0.626 | Train Metric:  0.845 | Val Metric:  0.810 | epoch time:  1.957 |\n",
            "Epoch 037: | Train loss:  0.477 | Val loss:  0.630 | Train Metric:  0.848 | Val Metric:  0.810 | epoch time:  1.991 |\n",
            "Epoch 038: | Train loss:  0.466 | Val loss:  0.629 | Train Metric:  0.853 | Val Metric:  0.810 | epoch time:  1.930 |\n",
            "Epoch 039: | Train loss:  0.463 | Val loss:  0.629 | Train Metric:  0.852 | Val Metric:  0.813 | epoch time:  2.003 | <-- Checkpoint!\n",
            "------------------------------------------------------------------------------------------------------------------------\n",
            "Epoch 040: | Train loss:  0.461 | Val loss:  0.624 | Train Metric:  0.853 | Val Metric:  0.813 | epoch time:  2.033 |\n",
            "Epoch 041: | Train loss:  0.454 | Val loss:  0.626 | Train Metric:  0.856 | Val Metric:  0.815 | epoch time:  2.036 | <-- Checkpoint!\n",
            "Epoch 042: | Train loss:  0.454 | Val loss:  0.627 | Train Metric:  0.855 | Val Metric:  0.812 | epoch time:  2.036 |\n",
            "Epoch 043: | Train loss:  0.451 | Val loss:  0.626 | Train Metric:  0.857 | Val Metric:  0.813 | epoch time:  2.071 |\n",
            "Epoch 044: | Train loss:  0.448 | Val loss:  0.626 | Train Metric:  0.859 | Val Metric:  0.813 | epoch time:  1.925 |\n",
            "Epoch 045: | Train loss:  0.447 | Val loss:  0.627 | Train Metric:  0.857 | Val Metric:  0.812 | epoch time:  2.008 |\n",
            "Epoch 046: | Train loss:  0.448 | Val loss:  0.626 | Train Metric:  0.858 | Val Metric:  0.813 | epoch time:  2.054 |\n",
            "Epoch 047: | Train loss:  0.447 | Val loss:  0.626 | Train Metric:  0.858 | Val Metric:  0.813 | epoch time:  2.056 |\n",
            "Epoch 048: | Train loss:  0.447 | Val loss:  0.626 | Train Metric:  0.857 | Val Metric:  0.813 | epoch time:  2.000 |\n",
            "Epoch 049: | Train loss:  0.444 | Val loss:  0.626 | Train Metric:  0.857 | Val Metric:  0.813 | epoch time:  2.002 |\n"
          ]
        }
      ],
      "source": [
        "nEpochs       = 50\n",
        "nIter         = nEpochs * len(oTrainDL)\n",
        "\n",
        "oModel        = RNN        ().to(DEVICE)\n",
        "oOptim        = optim.AdamW(oModel.parameters(), lr=5e-5, betas=(0.9, 0.99), weight_decay=1e-3)\n",
        "oScheduler    = OneCycleLR (oOptim, max_lr=5e-3, total_steps=nIter)\n",
        "lHistory      = TrainModel (oModel, oTrainDL, oTestDL, Loss, Metric, nEpochs, oOptim, oScheduler, sModelName='ManyToOne');"
      ]
    },
    {
      "cell_type": "code",
      "execution_count": null,
      "id": "alike-morocco",
      "metadata": {
        "ExecuteTime": {
          "end_time": "2022-08-25T20:22:28.391372Z",
          "start_time": "2022-08-25T20:22:28.069484Z"
        },
        "id": "alike-morocco",
        "outputId": "dc3354d8-741e-49fd-d616-c530d7e37f38"
      },
      "outputs": [
        {
          "data": {
            "image/png": "[encoded data removed]",
            "text/plain": [
              "<Figure size 1584x360 with 3 Axes>"
            ]
          },
          "metadata": {
            "needs_background": "light"
          },
          "output_type": "display_data"
        }
      ],
      "source": [
        "from DeepLearningFramework.Auxiliary import PlotHistory\n",
        "\n",
        "PlotHistory(lHistory)\n",
        "plt.show   ()"
      ]
    },
    {
      "cell_type": "code",
      "execution_count": null,
      "id": "twelve-crystal",
      "metadata": {
        "id": "twelve-crystal"
      },
      "outputs": [],
      "source": []
    }
  ],
  "metadata": {
    "kernelspec": {
      "display_name": "Python 3 (ipykernel)",
      "language": "python",
      "name": "python3"
    },
    "language_info": {
      "codemirror_mode": {
        "name": "ipython",
        "version": 3
      },
      "file_extension": ".py",
      "mimetype": "text/x-python",
      "name": "python",
      "nbconvert_exporter": "python",
      "pygments_lexer": "ipython3",
      "version": "3.8.13"
    },
    "colab": {
      "provenance": [],
      "include_colab_link": true
    }
  },
  "nbformat": 4,
  "nbformat_minor": 5
}